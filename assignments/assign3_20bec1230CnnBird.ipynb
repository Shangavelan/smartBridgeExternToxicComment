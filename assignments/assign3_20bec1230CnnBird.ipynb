{
 "cells": [
  {
   "cell_type": "code",
   "execution_count": 1,
   "metadata": {},
   "outputs": [],
   "source": [
    "#data augmentation\n",
    "from tensorflow.keras.preprocessing.image import ImageDataGenerator"
   ]
  },
  {
   "cell_type": "code",
   "execution_count": 2,
   "metadata": {},
   "outputs": [],
   "source": [
    "train_gen = ImageDataGenerator(rescale=(1./255),horizontal_flip=True,shear_range=0.2)\n",
    "test_gen = ImageDataGenerator(rescale=(1./255))"
   ]
  },
  {
   "cell_type": "code",
   "execution_count": 5,
   "metadata": {},
   "outputs": [
    {
     "name": "stdout",
     "output_type": "stream",
     "text": [
      "Found 150 images belonging to 16 classes.\n",
      "Found 157 images belonging to 16 classes.\n"
     ]
    }
   ],
   "source": [
    "train = train_gen.flow_from_directory('birdDataset/train_data/',target_size=(120,120),class_mode='categorical',batch_size=8)\n",
    "test = train_gen.flow_from_directory('birdDataset/test_data/',target_size=(120,120),class_mode='categorical',batch_size=8)\n"
   ]
  },
  {
   "cell_type": "code",
   "execution_count": 6,
   "metadata": {},
   "outputs": [],
   "source": [
    "#cnn\n",
    "from tensorflow.keras.layers import Convolution2D,MaxPooling2D,Flatten,Dense\n",
    "from tensorflow.keras.models import Sequential"
   ]
  },
  {
   "cell_type": "code",
   "execution_count": 18,
   "metadata": {},
   "outputs": [],
   "source": [
    "model = Sequential()\n",
    "model.add(Convolution2D(20,(3,3),activation='relu',input_shape=(120,120,3)))\n",
    "model.add(MaxPooling2D(pool_size=(2,2)))\n",
    "model.add(Flatten())\n",
    "model.add(Dense(64,activation='relu'))\n",
    "model.add(Dense(16,activation='softmax'))"
   ]
  },
  {
   "cell_type": "code",
   "execution_count": 19,
   "metadata": {},
   "outputs": [
    {
     "name": "stdout",
     "output_type": "stream",
     "text": [
      "Model: \"sequential_2\"\n",
      "_________________________________________________________________\n",
      " Layer (type)                Output Shape              Param #   \n",
      "=================================================================\n",
      " conv2d_2 (Conv2D)           (None, 118, 118, 20)      560       \n",
      "                                                                 \n",
      " max_pooling2d_2 (MaxPooling  (None, 59, 59, 20)       0         \n",
      " 2D)                                                             \n",
      "                                                                 \n",
      " flatten_2 (Flatten)         (None, 69620)             0         \n",
      "                                                                 \n",
      " dense_6 (Dense)             (None, 64)                4455744   \n",
      "                                                                 \n",
      " dense_7 (Dense)             (None, 16)                1040      \n",
      "                                                                 \n",
      "=================================================================\n",
      "Total params: 4,457,344\n",
      "Trainable params: 4,457,344\n",
      "Non-trainable params: 0\n",
      "_________________________________________________________________\n"
     ]
    }
   ],
   "source": [
    "model.summary()"
   ]
  },
  {
   "cell_type": "code",
   "execution_count": 20,
   "metadata": {},
   "outputs": [],
   "source": [
    "model.compile(optimizer='adam',loss='categorical_crossentropy',metrics=['accuracy'])"
   ]
  },
  {
   "cell_type": "code",
   "execution_count": 33,
   "metadata": {},
   "outputs": [
    {
     "name": "stdout",
     "output_type": "stream",
     "text": [
      "Epoch 1/100\n",
      "19/19 [==============================] - 37s 2s/step - loss: 0.5860 - accuracy: 0.8533 - val_loss: 3.1205 - val_accuracy: 0.2102\n",
      "Epoch 2/100\n",
      "19/19 [==============================] - 36s 2s/step - loss: 0.4864 - accuracy: 0.8933 - val_loss: 3.3649 - val_accuracy: 0.2102\n",
      "Epoch 3/100\n",
      "19/19 [==============================] - 36s 2s/step - loss: 0.3849 - accuracy: 0.9333 - val_loss: 3.1813 - val_accuracy: 0.2102\n",
      "Epoch 4/100\n",
      "19/19 [==============================] - 35s 2s/step - loss: 0.2621 - accuracy: 0.9533 - val_loss: 3.1861 - val_accuracy: 0.2803\n",
      "Epoch 5/100\n",
      "19/19 [==============================] - 35s 2s/step - loss: 0.2233 - accuracy: 0.9667 - val_loss: 3.2878 - val_accuracy: 0.2548\n",
      "Epoch 6/100\n",
      "19/19 [==============================] - 36s 2s/step - loss: 0.1880 - accuracy: 0.9800 - val_loss: 3.2921 - val_accuracy: 0.2293\n",
      "Epoch 7/100\n",
      "19/19 [==============================] - 36s 2s/step - loss: 0.2408 - accuracy: 0.9467 - val_loss: 3.7626 - val_accuracy: 0.2803\n",
      "Epoch 8/100\n",
      "19/19 [==============================] - 38s 2s/step - loss: 0.1861 - accuracy: 0.9733 - val_loss: 3.1698 - val_accuracy: 0.2548\n",
      "Epoch 9/100\n",
      "19/19 [==============================] - 37s 2s/step - loss: 0.1111 - accuracy: 0.9933 - val_loss: 3.1577 - val_accuracy: 0.2611\n",
      "Epoch 10/100\n",
      "19/19 [==============================] - 37s 2s/step - loss: 0.0933 - accuracy: 0.9933 - val_loss: 3.3447 - val_accuracy: 0.2739\n",
      "Epoch 11/100\n",
      "19/19 [==============================] - 39s 2s/step - loss: 0.0544 - accuracy: 1.0000 - val_loss: 3.4588 - val_accuracy: 0.2866\n",
      "Epoch 12/100\n",
      "19/19 [==============================] - 36s 2s/step - loss: 0.0425 - accuracy: 1.0000 - val_loss: 3.3941 - val_accuracy: 0.2994\n",
      "Epoch 13/100\n",
      "19/19 [==============================] - 40s 2s/step - loss: 0.0366 - accuracy: 1.0000 - val_loss: 3.5092 - val_accuracy: 0.2611\n",
      "Epoch 14/100\n",
      "19/19 [==============================] - 37s 2s/step - loss: 0.0259 - accuracy: 1.0000 - val_loss: 3.4969 - val_accuracy: 0.2994\n",
      "Epoch 15/100\n",
      "19/19 [==============================] - 36s 2s/step - loss: 0.0277 - accuracy: 1.0000 - val_loss: 3.5146 - val_accuracy: 0.3185\n",
      "Epoch 16/100\n",
      "19/19 [==============================] - 37s 2s/step - loss: 0.0227 - accuracy: 1.0000 - val_loss: 3.5180 - val_accuracy: 0.2994\n",
      "Epoch 17/100\n",
      "19/19 [==============================] - 38s 2s/step - loss: 0.0206 - accuracy: 1.0000 - val_loss: 3.5844 - val_accuracy: 0.3057\n",
      "Epoch 18/100\n",
      "19/19 [==============================] - 36s 2s/step - loss: 0.0203 - accuracy: 1.0000 - val_loss: 3.5905 - val_accuracy: 0.2675\n",
      "Epoch 19/100\n",
      "19/19 [==============================] - 36s 2s/step - loss: 0.0143 - accuracy: 1.0000 - val_loss: 3.6583 - val_accuracy: 0.3057\n",
      "Epoch 20/100\n",
      "19/19 [==============================] - 40s 2s/step - loss: 0.0144 - accuracy: 1.0000 - val_loss: 3.6224 - val_accuracy: 0.2930\n",
      "Epoch 21/100\n",
      "19/19 [==============================] - 37s 2s/step - loss: 0.0147 - accuracy: 1.0000 - val_loss: 3.5971 - val_accuracy: 0.2930\n",
      "Epoch 22/100\n",
      "19/19 [==============================] - 37s 2s/step - loss: 0.0145 - accuracy: 1.0000 - val_loss: 3.6408 - val_accuracy: 0.3376\n",
      "Epoch 23/100\n",
      "19/19 [==============================] - 36s 2s/step - loss: 0.0117 - accuracy: 1.0000 - val_loss: 3.6233 - val_accuracy: 0.2994\n",
      "Epoch 24/100\n",
      "19/19 [==============================] - 36s 2s/step - loss: 0.0090 - accuracy: 1.0000 - val_loss: 3.7243 - val_accuracy: 0.2930\n",
      "Epoch 25/100\n",
      "19/19 [==============================] - 36s 2s/step - loss: 0.0100 - accuracy: 1.0000 - val_loss: 3.6976 - val_accuracy: 0.3248\n",
      "Epoch 26/100\n",
      "19/19 [==============================] - 35s 2s/step - loss: 0.0094 - accuracy: 1.0000 - val_loss: 3.6611 - val_accuracy: 0.2866\n",
      "Epoch 27/100\n",
      "19/19 [==============================] - 35s 2s/step - loss: 0.0078 - accuracy: 1.0000 - val_loss: 3.6916 - val_accuracy: 0.3057\n",
      "Epoch 28/100\n",
      "19/19 [==============================] - 35s 2s/step - loss: 0.0075 - accuracy: 1.0000 - val_loss: 3.7229 - val_accuracy: 0.3248\n",
      "Epoch 29/100\n",
      "19/19 [==============================] - 35s 2s/step - loss: 0.0084 - accuracy: 1.0000 - val_loss: 3.7737 - val_accuracy: 0.2994\n",
      "Epoch 30/100\n",
      "19/19 [==============================] - 36s 2s/step - loss: 0.0066 - accuracy: 1.0000 - val_loss: 3.7220 - val_accuracy: 0.2930\n",
      "Epoch 31/100\n",
      "19/19 [==============================] - 35s 2s/step - loss: 0.0061 - accuracy: 1.0000 - val_loss: 3.7733 - val_accuracy: 0.2866\n",
      "Epoch 32/100\n",
      "19/19 [==============================] - 35s 2s/step - loss: 0.0058 - accuracy: 1.0000 - val_loss: 3.8646 - val_accuracy: 0.2611\n",
      "Epoch 33/100\n",
      "19/19 [==============================] - 35s 2s/step - loss: 0.0054 - accuracy: 1.0000 - val_loss: 3.7776 - val_accuracy: 0.2675\n",
      "Epoch 34/100\n",
      "19/19 [==============================] - 35s 2s/step - loss: 0.0057 - accuracy: 1.0000 - val_loss: 3.8382 - val_accuracy: 0.2739\n",
      "Epoch 35/100\n",
      "19/19 [==============================] - 36s 2s/step - loss: 0.0050 - accuracy: 1.0000 - val_loss: 3.8177 - val_accuracy: 0.2675\n",
      "Epoch 36/100\n",
      "19/19 [==============================] - 36s 2s/step - loss: 0.0052 - accuracy: 1.0000 - val_loss: 3.8267 - val_accuracy: 0.3248\n",
      "Epoch 37/100\n",
      "19/19 [==============================] - 36s 2s/step - loss: 0.0050 - accuracy: 1.0000 - val_loss: 3.8053 - val_accuracy: 0.3248\n",
      "Epoch 38/100\n",
      "19/19 [==============================] - 35s 2s/step - loss: 0.0043 - accuracy: 1.0000 - val_loss: 3.7905 - val_accuracy: 0.3057\n",
      "Epoch 39/100\n",
      "19/19 [==============================] - 35s 2s/step - loss: 0.0040 - accuracy: 1.0000 - val_loss: 3.8475 - val_accuracy: 0.3121\n",
      "Epoch 40/100\n",
      "19/19 [==============================] - 36s 2s/step - loss: 0.0040 - accuracy: 1.0000 - val_loss: 3.8466 - val_accuracy: 0.3121\n",
      "Epoch 41/100\n",
      "19/19 [==============================] - 36s 2s/step - loss: 0.0034 - accuracy: 1.0000 - val_loss: 3.8258 - val_accuracy: 0.2994\n",
      "Epoch 42/100\n",
      "19/19 [==============================] - 36s 2s/step - loss: 0.0034 - accuracy: 1.0000 - val_loss: 3.9111 - val_accuracy: 0.3185\n",
      "Epoch 43/100\n",
      "19/19 [==============================] - 35s 2s/step - loss: 0.0034 - accuracy: 1.0000 - val_loss: 3.9127 - val_accuracy: 0.3185\n",
      "Epoch 44/100\n",
      "19/19 [==============================] - 36s 2s/step - loss: 0.0032 - accuracy: 1.0000 - val_loss: 3.8635 - val_accuracy: 0.3185\n",
      "Epoch 45/100\n",
      "19/19 [==============================] - 36s 2s/step - loss: 0.0032 - accuracy: 1.0000 - val_loss: 3.9176 - val_accuracy: 0.2930\n",
      "Epoch 46/100\n",
      "19/19 [==============================] - 36s 2s/step - loss: 0.0029 - accuracy: 1.0000 - val_loss: 3.9582 - val_accuracy: 0.3121\n",
      "Epoch 47/100\n",
      "19/19 [==============================] - 37s 2s/step - loss: 0.0028 - accuracy: 1.0000 - val_loss: 3.9724 - val_accuracy: 0.3057\n",
      "Epoch 48/100\n",
      "19/19 [==============================] - 39s 2s/step - loss: 0.0028 - accuracy: 1.0000 - val_loss: 3.9398 - val_accuracy: 0.3248\n",
      "Epoch 49/100\n",
      "19/19 [==============================] - 39s 2s/step - loss: 0.0026 - accuracy: 1.0000 - val_loss: 3.9521 - val_accuracy: 0.3057\n",
      "Epoch 50/100\n",
      "19/19 [==============================] - 35s 2s/step - loss: 0.0026 - accuracy: 1.0000 - val_loss: 3.9836 - val_accuracy: 0.3057\n",
      "Epoch 51/100\n",
      "19/19 [==============================] - 35s 2s/step - loss: 0.0025 - accuracy: 1.0000 - val_loss: 4.0135 - val_accuracy: 0.3057\n",
      "Epoch 52/100\n",
      "19/19 [==============================] - 37s 2s/step - loss: 0.0024 - accuracy: 1.0000 - val_loss: 4.0335 - val_accuracy: 0.3057\n",
      "Epoch 53/100\n",
      "19/19 [==============================] - 36s 2s/step - loss: 0.0023 - accuracy: 1.0000 - val_loss: 4.0015 - val_accuracy: 0.3121\n",
      "Epoch 54/100\n",
      "19/19 [==============================] - 38s 2s/step - loss: 0.0022 - accuracy: 1.0000 - val_loss: 4.0197 - val_accuracy: 0.2994\n",
      "Epoch 55/100\n",
      "19/19 [==============================] - 37s 2s/step - loss: 0.0021 - accuracy: 1.0000 - val_loss: 4.0370 - val_accuracy: 0.2994\n",
      "Epoch 56/100\n",
      "19/19 [==============================] - 35s 2s/step - loss: 0.0021 - accuracy: 1.0000 - val_loss: 4.0481 - val_accuracy: 0.2930\n",
      "Epoch 57/100\n",
      "19/19 [==============================] - 36s 2s/step - loss: 0.0020 - accuracy: 1.0000 - val_loss: 4.0723 - val_accuracy: 0.2994\n",
      "Epoch 58/100\n",
      "19/19 [==============================] - 36s 2s/step - loss: 0.0020 - accuracy: 1.0000 - val_loss: 4.0708 - val_accuracy: 0.2994\n",
      "Epoch 59/100\n",
      "19/19 [==============================] - 35s 2s/step - loss: 0.0019 - accuracy: 1.0000 - val_loss: 4.1158 - val_accuracy: 0.3121\n",
      "Epoch 60/100\n",
      "19/19 [==============================] - 35s 2s/step - loss: 0.0018 - accuracy: 1.0000 - val_loss: 4.0731 - val_accuracy: 0.2930\n",
      "Epoch 61/100\n",
      "19/19 [==============================] - 36s 2s/step - loss: 0.0017 - accuracy: 1.0000 - val_loss: 4.0942 - val_accuracy: 0.3121\n",
      "Epoch 62/100\n",
      "19/19 [==============================] - 36s 2s/step - loss: 0.0018 - accuracy: 1.0000 - val_loss: 4.1028 - val_accuracy: 0.2994\n",
      "Epoch 63/100\n",
      "19/19 [==============================] - 38s 2s/step - loss: 0.0017 - accuracy: 1.0000 - val_loss: 4.1200 - val_accuracy: 0.2994\n",
      "Epoch 64/100\n",
      "19/19 [==============================] - 38s 2s/step - loss: 0.0016 - accuracy: 1.0000 - val_loss: 4.1561 - val_accuracy: 0.2994\n",
      "Epoch 65/100\n",
      "19/19 [==============================] - 41s 2s/step - loss: 0.0016 - accuracy: 1.0000 - val_loss: 4.1298 - val_accuracy: 0.2994\n",
      "Epoch 66/100\n",
      "19/19 [==============================] - 38s 2s/step - loss: 0.0016 - accuracy: 1.0000 - val_loss: 4.0956 - val_accuracy: 0.3121\n",
      "Epoch 67/100\n",
      "19/19 [==============================] - 39s 2s/step - loss: 0.0015 - accuracy: 1.0000 - val_loss: 4.1444 - val_accuracy: 0.3057\n",
      "Epoch 68/100\n",
      "19/19 [==============================] - 39s 2s/step - loss: 0.0014 - accuracy: 1.0000 - val_loss: 4.1423 - val_accuracy: 0.2994\n",
      "Epoch 69/100\n",
      "19/19 [==============================] - 38s 2s/step - loss: 0.0013 - accuracy: 1.0000 - val_loss: 4.1553 - val_accuracy: 0.3185\n",
      "Epoch 70/100\n",
      "19/19 [==============================] - 38s 2s/step - loss: 0.0013 - accuracy: 1.0000 - val_loss: 4.1535 - val_accuracy: 0.3121\n",
      "Epoch 71/100\n",
      "19/19 [==============================] - 38s 2s/step - loss: 0.0013 - accuracy: 1.0000 - val_loss: 4.1785 - val_accuracy: 0.3057\n",
      "Epoch 72/100\n",
      "19/19 [==============================] - 36s 2s/step - loss: 0.0013 - accuracy: 1.0000 - val_loss: 4.2032 - val_accuracy: 0.3057\n",
      "Epoch 73/100\n",
      "19/19 [==============================] - 35s 2s/step - loss: 0.0012 - accuracy: 1.0000 - val_loss: 4.2156 - val_accuracy: 0.2930\n",
      "Epoch 74/100\n",
      "19/19 [==============================] - 35s 2s/step - loss: 0.0012 - accuracy: 1.0000 - val_loss: 4.2528 - val_accuracy: 0.2994\n",
      "Epoch 75/100\n",
      "19/19 [==============================] - 35s 2s/step - loss: 0.0012 - accuracy: 1.0000 - val_loss: 4.1962 - val_accuracy: 0.3057\n",
      "Epoch 76/100\n",
      "19/19 [==============================] - 35s 2s/step - loss: 0.0012 - accuracy: 1.0000 - val_loss: 4.2278 - val_accuracy: 0.3057\n",
      "Epoch 77/100\n",
      "19/19 [==============================] - 35s 2s/step - loss: 0.0011 - accuracy: 1.0000 - val_loss: 4.1947 - val_accuracy: 0.3057\n",
      "Epoch 78/100\n",
      "19/19 [==============================] - 35s 2s/step - loss: 0.0011 - accuracy: 1.0000 - val_loss: 4.2643 - val_accuracy: 0.3057\n",
      "Epoch 79/100\n",
      "19/19 [==============================] - 39s 2s/step - loss: 0.0010 - accuracy: 1.0000 - val_loss: 4.2094 - val_accuracy: 0.3057\n",
      "Epoch 80/100\n",
      "19/19 [==============================] - 37s 2s/step - loss: 0.0011 - accuracy: 1.0000 - val_loss: 4.2449 - val_accuracy: 0.3121\n",
      "Epoch 81/100\n",
      "19/19 [==============================] - 37s 2s/step - loss: 0.0010 - accuracy: 1.0000 - val_loss: 4.1995 - val_accuracy: 0.3185\n",
      "Epoch 82/100\n",
      "19/19 [==============================] - 37s 2s/step - loss: 9.5799e-04 - accuracy: 1.0000 - val_loss: 4.2586 - val_accuracy: 0.3057\n",
      "Epoch 83/100\n",
      "19/19 [==============================] - 38s 2s/step - loss: 9.5078e-04 - accuracy: 1.0000 - val_loss: 4.2273 - val_accuracy: 0.3057\n",
      "Epoch 84/100\n",
      "19/19 [==============================] - 36s 2s/step - loss: 9.0930e-04 - accuracy: 1.0000 - val_loss: 4.2344 - val_accuracy: 0.3057\n",
      "Epoch 85/100\n",
      "19/19 [==============================] - 37s 2s/step - loss: 9.4205e-04 - accuracy: 1.0000 - val_loss: 4.2630 - val_accuracy: 0.3057\n",
      "Epoch 86/100\n",
      "19/19 [==============================] - 37s 2s/step - loss: 9.1288e-04 - accuracy: 1.0000 - val_loss: 4.3016 - val_accuracy: 0.3121\n",
      "Epoch 87/100\n",
      "19/19 [==============================] - 36s 2s/step - loss: 8.9577e-04 - accuracy: 1.0000 - val_loss: 4.2627 - val_accuracy: 0.3121\n",
      "Epoch 88/100\n",
      "19/19 [==============================] - 36s 2s/step - loss: 8.5987e-04 - accuracy: 1.0000 - val_loss: 4.3164 - val_accuracy: 0.3057\n",
      "Epoch 89/100\n",
      "19/19 [==============================] - 36s 2s/step - loss: 8.4473e-04 - accuracy: 1.0000 - val_loss: 4.3020 - val_accuracy: 0.2994\n",
      "Epoch 90/100\n",
      "19/19 [==============================] - 36s 2s/step - loss: 8.3393e-04 - accuracy: 1.0000 - val_loss: 4.3556 - val_accuracy: 0.3057\n",
      "Epoch 91/100\n",
      "19/19 [==============================] - 36s 2s/step - loss: 7.8742e-04 - accuracy: 1.0000 - val_loss: 4.3385 - val_accuracy: 0.3121\n",
      "Epoch 92/100\n",
      "19/19 [==============================] - 36s 2s/step - loss: 7.8052e-04 - accuracy: 1.0000 - val_loss: 4.3540 - val_accuracy: 0.3057\n",
      "Epoch 93/100\n",
      "19/19 [==============================] - 37s 2s/step - loss: 8.0367e-04 - accuracy: 1.0000 - val_loss: 4.3587 - val_accuracy: 0.3057\n",
      "Epoch 94/100\n",
      "19/19 [==============================] - 36s 2s/step - loss: 7.3561e-04 - accuracy: 1.0000 - val_loss: 4.3686 - val_accuracy: 0.3121\n",
      "Epoch 95/100\n",
      "19/19 [==============================] - 37s 2s/step - loss: 7.7983e-04 - accuracy: 1.0000 - val_loss: 4.3911 - val_accuracy: 0.2994\n",
      "Epoch 96/100\n",
      "19/19 [==============================] - 36s 2s/step - loss: 7.1453e-04 - accuracy: 1.0000 - val_loss: 4.3843 - val_accuracy: 0.2930\n",
      "Epoch 97/100\n",
      "19/19 [==============================] - 36s 2s/step - loss: 6.7159e-04 - accuracy: 1.0000 - val_loss: 4.3819 - val_accuracy: 0.2994\n",
      "Epoch 98/100\n",
      "19/19 [==============================] - 37s 2s/step - loss: 6.7783e-04 - accuracy: 1.0000 - val_loss: 4.3156 - val_accuracy: 0.3057\n",
      "Epoch 99/100\n",
      "19/19 [==============================] - 36s 2s/step - loss: 6.5416e-04 - accuracy: 1.0000 - val_loss: 4.3608 - val_accuracy: 0.3057\n",
      "Epoch 100/100\n",
      "19/19 [==============================] - 37s 2s/step - loss: 6.3715e-04 - accuracy: 1.0000 - val_loss: 4.3764 - val_accuracy: 0.3057\n"
     ]
    },
    {
     "data": {
      "text/plain": [
       "<keras.callbacks.History at 0x21839286150>"
      ]
     },
     "execution_count": 33,
     "metadata": {},
     "output_type": "execute_result"
    }
   ],
   "source": [
    "model.fit(train,batch_size=8,validation_data=test,epochs=100)"
   ]
  },
  {
   "cell_type": "code",
   "execution_count": 34,
   "metadata": {},
   "outputs": [],
   "source": [
    "model.save('weightsBird1.h5')"
   ]
  },
  {
   "cell_type": "code",
   "execution_count": 38,
   "metadata": {},
   "outputs": [
    {
     "data": {
      "image/png": "[encoded data removed]",
      "text/plain": [
       "<PIL.Image.Image image mode=RGB size=120x120>"
      ]
     },
     "execution_count": 38,
     "metadata": {},
     "output_type": "execute_result"
    }
   ],
   "source": [
    "#testing\n",
    "from tensorflow.keras.preprocessing import image\n",
    "img=image.load_img(r'birdDataset\\test_data\\blasti\\DSC_6396.jpg',target_size=(120,120))\n",
    "img"
   ]
  },
  {
   "cell_type": "code",
   "execution_count": 39,
   "metadata": {},
   "outputs": [],
   "source": [
    "import numpy as np\n",
    "img=image.img_to_array(img)\n",
    "img=np.expand_dims(img,axis=0)"
   ]
  },
  {
   "cell_type": "code",
   "execution_count": 40,
   "metadata": {},
   "outputs": [
    {
     "name": "stdout",
     "output_type": "stream",
     "text": [
      "1/1 [==============================] - 0s 29ms/step\n"
     ]
    },
    {
     "data": {
      "text/plain": [
       "array([[1., 0., 0., 0., 0., 0., 0., 0., 0., 0., 0., 0., 0., 0., 0., 0.]],\n",
       "      dtype=float32)"
      ]
     },
     "execution_count": 40,
     "metadata": {},
     "output_type": "execute_result"
    }
   ],
   "source": [
    "model.predict(img)"
   ]
  }
 ],
 "metadata": {
  "kernelspec": {
   "display_name": "Python 3",
   "language": "python",
   "name": "python3"
  },
  "language_info": {
   "codemirror_mode": {
    "name": "ipython",
    "version": 3
   },
   "file_extension": ".py",
   "mimetype": "text/x-python",
   "name": "python",
   "nbconvert_exporter": "python",
   "pygments_lexer": "ipython3",
   "version": "3.11.4"
  },
  "orig_nbformat": 4
 },
 "nbformat": 4,
 "nbformat_minor": 2
}
